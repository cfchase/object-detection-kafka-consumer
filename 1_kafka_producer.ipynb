{
 "cells": [
  {
   "cell_type": "code",
   "execution_count": null,
   "metadata": {},
   "outputs": [],
   "source": [
    "!pip install -r requirements.txt"
   ]
  },
  {
   "cell_type": "code",
   "execution_count": null,
   "metadata": {},
   "outputs": [],
   "source": [
    "import os\n",
    "\n",
    "KAFKA_BOOTSTRAP_SERVER = os.environ.get('KAFKA_BOOTSTRAP_SERVER')\n",
    "KAFKA_SECURITY_PROTOCOL = os.environ.get('KAFKA_SECURITY_PROTOCOL')\n",
    "KAFKA_SASL_MECHANISM = os.environ.get('KAFKA_SASL_MECHANISM')\n",
    "KAFKA_USERNAME = os.environ.get('KAFKA_USERNAME')\n",
    "KAFKA_PASSWORD = os.environ.get('KAFKA_PASSWORD')\n",
    "\n",
    "KAFKA_TOPIC_NOTEBOOKS = 'notebook-test'\n"
   ]
  },
  {
   "cell_type": "code",
   "execution_count": null,
   "metadata": {},
   "outputs": [],
   "source": [
    "import json\n",
    "import time\n",
    "from kafka import KafkaConsumer, KafkaProducer\n",
    "\n",
    "def produce_messages(start, end, delay=1):\n",
    "    producer = KafkaProducer(bootstrap_servers=[KAFKA_BOOTSTRAP_SERVER],\n",
    "                             security_protocol=KAFKA_SECURITY_PROTOCOL,\n",
    "                             sasl_mechanism=KAFKA_SASL_MECHANISM,\n",
    "                             sasl_plain_username=KAFKA_USERNAME,\n",
    "                             sasl_plain_password=KAFKA_PASSWORD,\n",
    "                             api_version_auto_timeout_ms=30000,\n",
    "                             max_block_ms=900000,\n",
    "                             request_timeout_ms=450000,\n",
    "                             acks='all')\n",
    "\n",
    "\n",
    "    \n",
    "    \n",
    "\n",
    "    for x in range(start, end):\n",
    "        time.sleep(delay)\n",
    "        jsonpayload = json.dumps({'txt': f'hello {x}'})\n",
    "        print(f'sending {jsonpayload}')\n",
    "        producer.send(KAFKA_TOPIC_NOTEBOOKS, jsonpayload.encode('utf-8'))\n",
    "        \n",
    "\n",
    "    producer.flush()  # Important, especially if message size is small\n",
    "\n"
   ]
  },
  {
   "cell_type": "code",
   "execution_count": null,
   "metadata": {},
   "outputs": [],
   "source": [
    "start = 0\n",
    "produce_messages(start, start + 10, 2)"
   ]
  },
  {
   "cell_type": "code",
   "execution_count": null,
   "metadata": {},
   "outputs": [],
   "source": []
  }
 ],
 "metadata": {
  "kernelspec": {
   "display_name": "Python 3",
   "language": "python",
   "name": "python3"
  },
  "language_info": {
   "codemirror_mode": {
    "name": "ipython",
    "version": 3
   },
   "file_extension": ".py",
   "mimetype": "text/x-python",
   "name": "python",
   "nbconvert_exporter": "python",
   "pygments_lexer": "ipython3",
   "version": "3.6.8"
  }
 },
 "nbformat": 4,
 "nbformat_minor": 4
}
