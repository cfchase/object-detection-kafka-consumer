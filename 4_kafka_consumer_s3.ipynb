{
 "cells": [
  {
   "cell_type": "code",
   "execution_count": 1,
   "metadata": {},
   "outputs": [
    {
     "name": "stdout",
     "output_type": "stream",
     "text": [
      "Requirement already satisfied: kafka-python in /opt/app-root/lib/python3.6/site-packages (from -r requirements.txt (line 1)) (2.0.2)\n",
      "Requirement already satisfied: tensorflow in /opt/app-root/lib/python3.6/site-packages (from -r requirements.txt (line 2)) (2.4.1)\n",
      "Requirement already satisfied: matplotlib in /opt/app-root/lib/python3.6/site-packages (from -r requirements.txt (line 3)) (3.3.4)\n",
      "Requirement already satisfied: six in /opt/app-root/lib/python3.6/site-packages (from -r requirements.txt (line 4)) (1.15.0)\n",
      "Requirement already satisfied: numpy in /opt/app-root/lib/python3.6/site-packages (from -r requirements.txt (line 5)) (1.19.5)\n",
      "Requirement already satisfied: pillow>=6.2.0 in /opt/app-root/lib/python3.6/site-packages (from matplotlib->-r requirements.txt (line 3)) (8.1.0)\n",
      "Requirement already satisfied: cycler>=0.10 in /opt/app-root/lib/python3.6/site-packages (from matplotlib->-r requirements.txt (line 3)) (0.10.0)\n",
      "Requirement already satisfied: python-dateutil>=2.1 in /opt/app-root/lib/python3.6/site-packages (from matplotlib->-r requirements.txt (line 3)) (2.8.1)\n",
      "Requirement already satisfied: kiwisolver>=1.0.1 in /opt/app-root/lib/python3.6/site-packages (from matplotlib->-r requirements.txt (line 3)) (1.3.1)\n",
      "Requirement already satisfied: pyparsing!=2.0.4,!=2.1.2,!=2.1.6,>=2.0.3 in /opt/app-root/lib/python3.6/site-packages (from matplotlib->-r requirements.txt (line 3)) (2.4.7)\n",
      "Requirement already satisfied: google-pasta~=0.2 in /opt/app-root/lib/python3.6/site-packages (from tensorflow->-r requirements.txt (line 2)) (0.2.0)\n",
      "Requirement already satisfied: keras-preprocessing~=1.1.2 in /opt/app-root/lib/python3.6/site-packages (from tensorflow->-r requirements.txt (line 2)) (1.1.2)\n",
      "Requirement already satisfied: h5py~=2.10.0 in /opt/app-root/lib/python3.6/site-packages (from tensorflow->-r requirements.txt (line 2)) (2.10.0)\n",
      "Requirement already satisfied: wrapt~=1.12.1 in /opt/app-root/lib/python3.6/site-packages (from tensorflow->-r requirements.txt (line 2)) (1.12.1)\n",
      "Requirement already satisfied: gast==0.3.3 in /opt/app-root/lib/python3.6/site-packages (from tensorflow->-r requirements.txt (line 2)) (0.3.3)\n",
      "Requirement already satisfied: termcolor~=1.1.0 in /opt/app-root/lib/python3.6/site-packages (from tensorflow->-r requirements.txt (line 2)) (1.1.0)\n",
      "Requirement already satisfied: tensorboard~=2.4 in /opt/app-root/lib/python3.6/site-packages (from tensorflow->-r requirements.txt (line 2)) (2.4.1)\n",
      "Requirement already satisfied: absl-py~=0.10 in /opt/app-root/lib/python3.6/site-packages (from tensorflow->-r requirements.txt (line 2)) (0.11.0)\n",
      "Requirement already satisfied: wheel~=0.35 in /opt/app-root/lib/python3.6/site-packages (from tensorflow->-r requirements.txt (line 2)) (0.36.2)\n",
      "Requirement already satisfied: typing-extensions~=3.7.4 in /opt/app-root/lib/python3.6/site-packages (from tensorflow->-r requirements.txt (line 2)) (3.7.4.3)\n",
      "Requirement already satisfied: tensorflow-estimator<2.5.0,>=2.4.0 in /opt/app-root/lib/python3.6/site-packages (from tensorflow->-r requirements.txt (line 2)) (2.4.0)\n",
      "Requirement already satisfied: flatbuffers~=1.12.0 in /opt/app-root/lib/python3.6/site-packages (from tensorflow->-r requirements.txt (line 2)) (1.12)\n",
      "Requirement already satisfied: grpcio~=1.32.0 in /opt/app-root/lib/python3.6/site-packages (from tensorflow->-r requirements.txt (line 2)) (1.32.0)\n",
      "Requirement already satisfied: astunparse~=1.6.3 in /opt/app-root/lib/python3.6/site-packages (from tensorflow->-r requirements.txt (line 2)) (1.6.3)\n",
      "Requirement already satisfied: protobuf>=3.9.2 in /opt/app-root/lib/python3.6/site-packages (from tensorflow->-r requirements.txt (line 2)) (3.15.1)\n",
      "Requirement already satisfied: opt-einsum~=3.3.0 in /opt/app-root/lib/python3.6/site-packages (from tensorflow->-r requirements.txt (line 2)) (3.3.0)\n",
      "Requirement already satisfied: tensorboard-plugin-wit>=1.6.0 in /opt/app-root/lib/python3.6/site-packages (from tensorboard~=2.4->tensorflow->-r requirements.txt (line 2)) (1.8.0)\n",
      "Requirement already satisfied: requests<3,>=2.21.0 in /opt/app-root/lib/python3.6/site-packages (from tensorboard~=2.4->tensorflow->-r requirements.txt (line 2)) (2.25.1)\n",
      "Requirement already satisfied: werkzeug>=0.11.15 in /opt/app-root/lib/python3.6/site-packages (from tensorboard~=2.4->tensorflow->-r requirements.txt (line 2)) (1.0.1)\n",
      "Requirement already satisfied: google-auth<2,>=1.6.3 in /opt/app-root/lib/python3.6/site-packages (from tensorboard~=2.4->tensorflow->-r requirements.txt (line 2)) (1.24.0)\n",
      "Requirement already satisfied: setuptools>=41.0.0 in /opt/app-root/lib/python3.6/site-packages (from tensorboard~=2.4->tensorflow->-r requirements.txt (line 2)) (52.0.0)\n",
      "Requirement already satisfied: markdown>=2.6.8 in /opt/app-root/lib/python3.6/site-packages (from tensorboard~=2.4->tensorflow->-r requirements.txt (line 2)) (3.3.3)\n",
      "Requirement already satisfied: google-auth-oauthlib<0.5,>=0.4.1 in /opt/app-root/lib/python3.6/site-packages (from tensorboard~=2.4->tensorflow->-r requirements.txt (line 2)) (0.4.2)\n",
      "Requirement already satisfied: rsa<5,>=3.1.4 in /opt/app-root/lib/python3.6/site-packages (from google-auth<2,>=1.6.3->tensorboard~=2.4->tensorflow->-r requirements.txt (line 2)) (4.7)\n",
      "Requirement already satisfied: pyasn1-modules>=0.2.1 in /opt/app-root/lib/python3.6/site-packages (from google-auth<2,>=1.6.3->tensorboard~=2.4->tensorflow->-r requirements.txt (line 2)) (0.2.8)\n",
      "Requirement already satisfied: cachetools<5.0,>=2.0.0 in /opt/app-root/lib/python3.6/site-packages (from google-auth<2,>=1.6.3->tensorboard~=2.4->tensorflow->-r requirements.txt (line 2)) (4.2.1)\n",
      "Requirement already satisfied: requests-oauthlib>=0.7.0 in /opt/app-root/lib/python3.6/site-packages (from google-auth-oauthlib<0.5,>=0.4.1->tensorboard~=2.4->tensorflow->-r requirements.txt (line 2)) (1.3.0)\n",
      "Requirement already satisfied: importlib-metadata in /opt/app-root/lib/python3.6/site-packages (from markdown>=2.6.8->tensorboard~=2.4->tensorflow->-r requirements.txt (line 2)) (3.4.0)\n",
      "Requirement already satisfied: pyasn1<0.5.0,>=0.4.6 in /opt/app-root/lib/python3.6/site-packages (from pyasn1-modules>=0.2.1->google-auth<2,>=1.6.3->tensorboard~=2.4->tensorflow->-r requirements.txt (line 2)) (0.4.8)\n",
      "Requirement already satisfied: chardet<5,>=3.0.2 in /opt/app-root/lib/python3.6/site-packages (from requests<3,>=2.21.0->tensorboard~=2.4->tensorflow->-r requirements.txt (line 2)) (3.0.4)\n",
      "Requirement already satisfied: certifi>=2017.4.17 in /opt/app-root/lib/python3.6/site-packages (from requests<3,>=2.21.0->tensorboard~=2.4->tensorflow->-r requirements.txt (line 2)) (2020.12.5)\n",
      "Requirement already satisfied: urllib3<1.27,>=1.21.1 in /opt/app-root/lib/python3.6/site-packages (from requests<3,>=2.21.0->tensorboard~=2.4->tensorflow->-r requirements.txt (line 2)) (1.26.3)\n",
      "Requirement already satisfied: idna<3,>=2.5 in /opt/app-root/lib/python3.6/site-packages (from requests<3,>=2.21.0->tensorboard~=2.4->tensorflow->-r requirements.txt (line 2)) (2.10)\n",
      "Requirement already satisfied: oauthlib>=3.0.0 in /opt/app-root/lib/python3.6/site-packages (from requests-oauthlib>=0.7.0->google-auth-oauthlib<0.5,>=0.4.1->tensorboard~=2.4->tensorflow->-r requirements.txt (line 2)) (3.1.0)\n",
      "Requirement already satisfied: zipp>=0.5 in /opt/app-root/lib/python3.6/site-packages (from importlib-metadata->markdown>=2.6.8->tensorboard~=2.4->tensorflow->-r requirements.txt (line 2)) (3.4.0)\n",
      "\u001b[33mWARNING: You are using pip version 21.0; however, version 21.0.1 is available.\n",
      "You should consider upgrading via the '/opt/app-root/bin/python3.6 -m pip install --upgrade pip' command.\u001b[0m\n"
     ]
    }
   ],
   "source": [
    "!pip install -r requirements.txt"
   ]
  },
  {
   "cell_type": "code",
   "execution_count": 2,
   "metadata": {},
   "outputs": [],
   "source": [
    "import os\n",
    "\n",
    "KAFKA_BOOTSTRAP_SERVER = os.environ.get('KAFKA_BOOTSTRAP_SERVER')\n",
    "KAFKA_SECURITY_PROTOCOL = os.environ.get('KAFKA_SECURITY_PROTOCOL')\n",
    "KAFKA_SASL_MECHANISM = os.environ.get('KAFKA_SASL_MECHANISM')\n",
    "KAFKA_USERNAME = os.environ.get('KAFKA_USERNAME')\n",
    "KAFKA_PASSWORD = os.environ.get('KAFKA_PASSWORD')\n",
    "\n",
    "KAFKA_TOPIC_IMAGES = os.environ.get('KAFKA_TOPIC_IMAGES')\n",
    "KAFKA_TOPIC_OBJECTS = os.environ.get('KAFKA_TOPIC_OBJECTS')\n",
    "KAFKA_TOPIC_NOTEBOOKS = 'notebook-test'\n",
    "\n",
    "KAFKA_CONSUMER_GROUP = 'notebook-save-s3'\n",
    "\n",
    "AWS_BUCKET = os.environ.get('AWS_BUCKET')\n",
    "AWS_PREFIX = os.environ.get('AWS_PREFIX')\n",
    "AWS_ACCESS_KEY_ID = os.environ.get('AWS_ACCESS_KEY_ID')\n",
    "AWS_SECRET_ACCESS_KEY = os.environ.get('AWS_SECRET_ACCESS_KEY')\n",
    "\n",
    "AWS_BUCKET = 'cchase-dev'\n",
    "AWS_PREFIX = 'object-detection'"
   ]
  },
  {
   "cell_type": "code",
   "execution_count": 3,
   "metadata": {},
   "outputs": [],
   "source": [
    "import os\n",
    "import boto3\n",
    "import botocore\n",
    "\n",
    "key_id = os.environ.get('AWS_ACCESS_KEY_ID')\n",
    "secret_key = os.environ.get('AWS_SECRET_ACCESS_KEY')\n",
    "\n",
    "session = boto3.session.Session(aws_access_key_id=key_id,\n",
    "                                aws_secret_access_key=secret_key)\n",
    "\n",
    "s3_resource = session.resource(\n",
    "    's3',\n",
    "    config=botocore.client.Config(signature_version='s3v4')\n",
    ")\n"
   ]
  },
  {
   "cell_type": "code",
   "execution_count": 10,
   "metadata": {},
   "outputs": [],
   "source": [
    "from kafka import KafkaConsumer, KafkaProducer\n",
    "import json\n",
    "import base64\n",
    "\n",
    "\n",
    "def create_consumer_save_s3():\n",
    "    consumer = KafkaConsumer(KAFKA_TOPIC_IMAGES,\n",
    "                             group_id=KAFKA_CONSUMER_GROUP,\n",
    "                             bootstrap_servers=[KAFKA_BOOTSTRAP_SERVER],\n",
    "                             security_protocol=KAFKA_SECURITY_PROTOCOL,\n",
    "                             sasl_mechanism=KAFKA_SASL_MECHANISM,\n",
    "                             sasl_plain_username=KAFKA_USERNAME,\n",
    "                             sasl_plain_password=KAFKA_PASSWORD,\n",
    "                             auto_offset_reset='earliest',\n",
    "                             api_version_auto_timeout_ms=30000,\n",
    "                             request_timeout_ms=450000)\n",
    "\n",
    "    print(f'Subscribed to \"{KAFKA_BOOTSTRAP_SERVER}\" consuming topic \"{KAFKA_TOPIC_IMAGES}\"...')\n",
    "\n",
    "    bucket = s3_resource.Bucket(AWS_BUCKET)\n",
    "    \n",
    "    try:\n",
    "        for record in consumer:\n",
    "            timestamp = record.timestamp\n",
    "            filename = f'{AWS_PREFIX}/kafka-messages/{timestamp}.json'\n",
    "            msg = record.value.decode('utf-8')\n",
    "            topic = record.topic\n",
    "            print(f'Writing msg to s3:\"{AWS_BUCKET}/{filename}\"')\n",
    "            json_obj = bucket.Object(filename)\n",
    "            json_obj.put(Body=msg)\n",
    "\n",
    "\n",
    "    finally:\n",
    "        print(\"Closing consumer...\")\n",
    "        consumer.close()\n",
    "    print(\"Kafka consumer stopped.\")\n",
    "\n"
   ]
  },
  {
   "cell_type": "code",
   "execution_count": null,
   "metadata": {},
   "outputs": [
    {
     "name": "stdout",
     "output_type": "stream",
     "text": [
      "Subscribed to \"sample-kafka-bootstrap.cchase.svc.cluster.local:9092\" consuming topic \"images\"...\n",
      "Writing msg to s3:\"cchase-dev/object-detection/kafka-messages/1614048979104.json\"\n",
      "Writing msg to s3:\"cchase-dev/object-detection/kafka-messages/1614048979604.json\"\n",
      "Writing msg to s3:\"cchase-dev/object-detection/kafka-messages/1614048980089.json\"\n"
     ]
    }
   ],
   "source": [
    "\n",
    "try:\n",
    "    create_consumer_save_s3()\n",
    "except KeyboardInterrupt:\n",
    "    print('Stopped')\n"
   ]
  },
  {
   "cell_type": "code",
   "execution_count": null,
   "metadata": {},
   "outputs": [],
   "source": []
  }
 ],
 "metadata": {
  "kernelspec": {
   "display_name": "Python 3",
   "language": "python",
   "name": "python3"
  },
  "language_info": {
   "codemirror_mode": {
    "name": "ipython",
    "version": 3
   },
   "file_extension": ".py",
   "mimetype": "text/x-python",
   "name": "python",
   "nbconvert_exporter": "python",
   "pygments_lexer": "ipython3",
   "version": "3.6.8"
  }
 },
 "nbformat": 4,
 "nbformat_minor": 4
}
