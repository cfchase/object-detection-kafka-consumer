{
 "cells": [
  {
   "cell_type": "code",
   "execution_count": null,
   "metadata": {},
   "outputs": [],
   "source": [
    "import sys\n",
    "!{sys.executable} -m pip install -r requirements.txt"
   ]
  },
  {
   "cell_type": "code",
   "execution_count": null,
   "metadata": {},
   "outputs": [],
   "source": [
    "import os\n",
    "\n",
    "KAFKA_BOOTSTRAP_SERVER = os.environ.get('KAFKA_BOOTSTRAP_SERVER')\n",
    "KAFKA_SECURITY_PROTOCOL = os.environ.get('KAFKA_SECURITY_PROTOCOL')\n",
    "KAFKA_SASL_MECHANISM = os.environ.get('KAFKA_SASL_MECHANISM')\n",
    "KAFKA_USERNAME = os.environ.get('KAFKA_USERNAME')\n",
    "KAFKA_PASSWORD = os.environ.get('KAFKA_PASSWORD')\n",
    "\n",
    "KAFKA_TOPIC_IMAGES = os.environ.get('KAFKA_TOPIC_IMAGES')\n",
    "KAFKA_TOPIC_OBJECTS = os.environ.get('KAFKA_TOPIC_OBJECTS')\n",
    "KAFKA_TOPIC_NOTEBOOKS = 'notebook-test'\n",
    "\n",
    "KAFKA_CONSUMER_GROUP = 'notebook-consumer-producer'\n"
   ]
  },
  {
   "cell_type": "code",
   "execution_count": null,
   "metadata": {},
   "outputs": [],
   "source": [
    "from kafka import KafkaConsumer, KafkaProducer\n",
    "from pprint import pprint\n",
    "\n",
    "def create_consumer_producer():\n",
    "    consumer = KafkaConsumer(KAFKA_CONSUMER_TOPIC,\n",
    "                             group_id=KAFKA_CONSUMER_GROUP,\n",
    "                             bootstrap_servers=KAFKA_BOOTSTRAP_SERVER,\n",
    "                             security_protocol=KAFKA_SECURITY_PROTOCOL,\n",
    "                             sasl_mechanism=KAFKA_SASL_MECHANISM,\n",
    "                             sasl_plain_username=KAFKA_USERNAME,\n",
    "                             sasl_plain_password=KAFKA_PASSWORD,\n",
    "                             auto_offset_reset='earliest',\n",
    "                             api_version_auto_timeout_ms=30000,\n",
    "                             request_timeout_ms=450000)\n",
    "\n",
    "    producer = KafkaProducer(bootstrap_servers=KAFKA_BOOTSTRAP_SERVER,\n",
    "                             security_protocol=KAFKA_SECURITY_PROTOCOL,\n",
    "                             sasl_mechanism=KAFKA_SASL_MECHANISM,\n",
    "                             sasl_plain_username=KAFKA_USERNAME,\n",
    "                             sasl_plain_password=KAFKA_PASSWORD,\n",
    "                             api_version_auto_timeout_ms=30000,\n",
    "                             max_block_ms=900000,\n",
    "                             request_timeout_ms=450000,\n",
    "                             acks='all')\n",
    "\n",
    "    print(f'Subscribed to \"{KAFKA_BOOTSTRAP_SERVER}\" consuming topic \"{KAFKA_CONSUMER_TOPIC}, producing messages on topic \"{KAFKA_PRODUCER_TOPIC}\"...')\n",
    "\n",
    "    try:\n",
    "        for record in consumer:\n",
    "            msg = record.value.decode('utf-8')\n",
    "            dict = json.loads(msg)\n",
    "            result = predict(dict)\n",
    "            dict['prediction'] = result\n",
    "            producer.send(KAFKA_PRODUCER_TOPIC, json.dumps(dict).encode('utf-8'))\n",
    "            producer.flush()\n",
    "    finally:\n",
    "        print(\"Closing KafkaTransformer...\")\n",
    "        consumer.close()\n",
    "    print(\"Kafka transformer stopped.\")\n",
    "\n"
   ]
  },
  {
   "cell_type": "code",
   "execution_count": null,
   "metadata": {},
   "outputs": [],
   "source": [
    "\n",
    "try:\n",
    "    create_consumer_producer()\n",
    "except KeyboardInterrupt:\n",
    "    print('Stopped')\n"
   ]
  }
 ],
 "metadata": {
  "kernelspec": {
   "display_name": "Python 3",
   "language": "python",
   "name": "python3"
  },
  "language_info": {
   "codemirror_mode": {
    "name": "ipython",
    "version": 3
   },
   "file_extension": ".py",
   "mimetype": "text/x-python",
   "name": "python",
   "nbconvert_exporter": "python",
   "pygments_lexer": "ipython3",
   "version": "3.6.8"
  }
 },
 "nbformat": 4,
 "nbformat_minor": 4
}
