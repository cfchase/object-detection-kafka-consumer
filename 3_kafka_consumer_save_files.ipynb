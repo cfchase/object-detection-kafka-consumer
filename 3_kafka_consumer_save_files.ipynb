{
 "cells": [
  {
   "cell_type": "code",
   "execution_count": null,
   "metadata": {},
   "outputs": [],
   "source": [
    "!pip install -r requirements.txt"
   ]
  },
  {
   "cell_type": "code",
   "execution_count": null,
   "metadata": {},
   "outputs": [],
   "source": [
    "import os\n",
    "\n",
    "KAFKA_BOOTSTRAP_SERVER = os.environ.get('KAFKA_BOOTSTRAP_SERVER')\n",
    "KAFKA_SECURITY_PROTOCOL = os.environ.get('KAFKA_SECURITY_PROTOCOL')\n",
    "KAFKA_SASL_MECHANISM = os.environ.get('KAFKA_SASL_MECHANISM')\n",
    "KAFKA_USERNAME = os.environ.get('KAFKA_USERNAME')\n",
    "KAFKA_PASSWORD = os.environ.get('KAFKA_PASSWORD')\n",
    "\n",
    "KAFKA_TOPIC_IMAGES = os.environ.get('KAFKA_TOPIC_IMAGES')\n",
    "KAFKA_TOPIC_OBJECTS = os.environ.get('KAFKA_TOPIC_OBJECTS')\n",
    "KAFKA_TOPIC_NOTEBOOKS = 'notebook-test'\n",
    "\n",
    "KAFKA_CONSUMER_GROUP = 'notebook-save-files'"
   ]
  },
  {
   "cell_type": "code",
   "execution_count": null,
   "metadata": {},
   "outputs": [],
   "source": [
    "from kafka import KafkaConsumer, KafkaProducer\n",
    "import json\n",
    "\n",
    "def create_consumer_save_files():\n",
    "    consumer = KafkaConsumer(KAFKA_TOPIC_IMAGES,\n",
    "                             group_id=KAFKA_CONSUMER_GROUP,\n",
    "                             bootstrap_servers=[KAFKA_BOOTSTRAP_SERVER],\n",
    "                             security_protocol=KAFKA_SECURITY_PROTOCOL,\n",
    "                             sasl_mechanism=KAFKA_SASL_MECHANISM,\n",
    "                             sasl_plain_username=KAFKA_USERNAME,\n",
    "                             sasl_plain_password=KAFKA_PASSWORD,\n",
    "                             auto_offset_reset='earliest',\n",
    "                             api_version_auto_timeout_ms=30000,\n",
    "                             request_timeout_ms=450000)\n",
    "\n",
    "    print(f'Subscribed to \"{KAFKA_BOOTSTRAP_SERVER}\" consuming topic \"{KAFKA_TOPIC_IMAGES}\"...')\n",
    "\n",
    "    try:\n",
    "        for record in consumer:\n",
    "            timestamp = record.timestamp\n",
    "            filename = f'messages/{timestamp}.json'\n",
    "            msg = record.value.decode('utf-8')\n",
    "            topic = record.topic\n",
    "            json_data = json.loads(msg)\n",
    "            print(('Received the following message on the '\n",
    "                   f'topic \"{topic}\": {msg}'))\n",
    "            with open(filename, 'w') as outfile:\n",
    "                print(f'Writing msg to \"{filename}\"')\n",
    "                outfile.write(msg)\n",
    "\n",
    "    finally:\n",
    "        print(\"Closing consumer...\")\n",
    "        consumer.close()\n",
    "    print(\"Kafka consumer stopped.\")\n",
    "\n"
   ]
  },
  {
   "cell_type": "code",
   "execution_count": null,
   "metadata": {},
   "outputs": [],
   "source": [
    "\n",
    "try:\n",
    "    create_consumer_save_files()\n",
    "except KeyboardInterrupt:\n",
    "    print('Stopped')\n"
   ]
  },
  {
   "cell_type": "code",
   "execution_count": null,
   "metadata": {},
   "outputs": [],
   "source": []
  }
 ],
 "metadata": {
  "kernelspec": {
   "display_name": "Python 3",
   "language": "python",
   "name": "python3"
  },
  "language_info": {
   "codemirror_mode": {
    "name": "ipython",
    "version": 3
   },
   "file_extension": ".py",
   "mimetype": "text/x-python",
   "name": "python",
   "nbconvert_exporter": "python",
   "pygments_lexer": "ipython3",
   "version": "3.6.8"
  }
 },
 "nbformat": 4,
 "nbformat_minor": 4
}
