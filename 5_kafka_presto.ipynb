{
 "cells": [
  {
   "cell_type": "code",
   "execution_count": null,
   "metadata": {},
   "outputs": [],
   "source": [
    "!pip install presto-python-client"
   ]
  },
  {
   "cell_type": "code",
   "execution_count": null,
   "metadata": {},
   "outputs": [],
   "source": [
    "import os\n",
    "\n",
    "PRESTO_SERVER = os.environ.get('PRESTO_SERVER')\n",
    "PRESTO_USER = os.environ.get('PRESTO_USER')\n",
    "\n",
    "PRESTO_SERVER = 'rhods-presto.presto.svc.cluster.local'\n",
    "PRESTO_USER = 'admin'\n"
   ]
  },
  {
   "cell_type": "code",
   "execution_count": null,
   "metadata": {},
   "outputs": [],
   "source": [
    "import prestodb\n",
    "conn=prestodb.dbapi.connect(\n",
    "    host=PRESTO_SERVER,\n",
    "    port=8080,\n",
    "    user=PRESTO_USER\n",
    ")\n",
    "cur = conn.cursor()\n",
    "cur.execute('SELECT * FROM system.runtime.nodes')\n",
    "rows = cur.fetchall()\n",
    "rows"
   ]
  },
  {
   "cell_type": "code",
   "execution_count": null,
   "metadata": {},
   "outputs": [],
   "source": [
    "import prestodb\n",
    "conn=prestodb.dbapi.connect(\n",
    "    host=PRESTO_SERVER,\n",
    "    port=8080,\n",
    "    user=PRESTO_USER,\n",
    "    catalog='kafka',\n",
    "    schema='default',\n",
    ")\n",
    "cur = conn.cursor()\n",
    "cur.execute('SELECT * FROM images LIMIT 3')\n",
    "rows = cur.fetchall()\n",
    "rows"
   ]
  }
 ],
 "metadata": {
  "kernelspec": {
   "display_name": "Python 3",
   "language": "python",
   "name": "python3"
  },
  "language_info": {
   "codemirror_mode": {
    "name": "ipython",
    "version": 3
   },
   "file_extension": ".py",
   "mimetype": "text/x-python",
   "name": "python",
   "nbconvert_exporter": "python",
   "pygments_lexer": "ipython3",
   "version": "3.6.8"
  }
 },
 "nbformat": 4,
 "nbformat_minor": 4
}
